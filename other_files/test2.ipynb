{
 "cells": [
  {
   "cell_type": "code",
   "execution_count": 48,
   "metadata": {},
   "outputs": [
    {
     "name": "stderr",
     "output_type": "stream",
     "text": [
      "WARNING:absl:Compiled the loaded model, but the compiled metrics have yet to be built. `model.compile_metrics` will be empty until you train or evaluate the model.\n"
     ]
    }
   ],
   "source": [
    "import numpy as np\n",
    "import librosa\n",
    "from tensorflow import keras\n",
    "\n",
    "# Load the saved model\n",
    "model = keras.models.load_model('models/speech_sentiment_analysis.h5')\n",
    "from IPython.display import Audio"
   ]
  },
  {
   "cell_type": "code",
   "execution_count": 1,
   "metadata": {},
   "outputs": [
    {
     "ename": "NameError",
     "evalue": "name 'predict_emotion' is not defined",
     "output_type": "error",
     "traceback": [
      "\u001b[1;31m---------------------------------------------------------------------------\u001b[0m",
      "\u001b[1;31mNameError\u001b[0m                                 Traceback (most recent call last)",
      "Cell \u001b[1;32mIn[1], line 4\u001b[0m\n\u001b[0;32m      1\u001b[0m audio_file_path \u001b[38;5;241m=\u001b[39m \u001b[38;5;124mr\u001b[39m\u001b[38;5;124m'\u001b[39m\u001b[38;5;124mser_dataset/Actor_24/03-01-01-01-01-01-24.wav\u001b[39m\u001b[38;5;124m'\u001b[39m\n\u001b[0;32m      3\u001b[0m \u001b[38;5;66;03m# Predict emotion for the given audio file\u001b[39;00m\n\u001b[1;32m----> 4\u001b[0m predicted_emotion \u001b[38;5;241m=\u001b[39m \u001b[43mpredict_emotion\u001b[49m(audio_file_path)\n\u001b[0;32m      6\u001b[0m \u001b[38;5;66;03m# You'll probably have a dictionary or mapping for integer indices to emotion labels\u001b[39;00m\n\u001b[0;32m      7\u001b[0m emotion_labels \u001b[38;5;241m=\u001b[39m {\u001b[38;5;241m0\u001b[39m: \u001b[38;5;124m'\u001b[39m\u001b[38;5;124mangry\u001b[39m\u001b[38;5;124m'\u001b[39m, \u001b[38;5;241m1\u001b[39m: \u001b[38;5;124m'\u001b[39m\u001b[38;5;124mdisgust\u001b[39m\u001b[38;5;124m'\u001b[39m, \u001b[38;5;241m2\u001b[39m: \u001b[38;5;124m'\u001b[39m\u001b[38;5;124mfear\u001b[39m\u001b[38;5;124m'\u001b[39m, \u001b[38;5;241m3\u001b[39m: \u001b[38;5;124m'\u001b[39m\u001b[38;5;124mhappy\u001b[39m\u001b[38;5;124m'\u001b[39m, \u001b[38;5;241m4\u001b[39m: \u001b[38;5;124m'\u001b[39m\u001b[38;5;124mneutral\u001b[39m\u001b[38;5;124m'\u001b[39m, \u001b[38;5;241m5\u001b[39m: \u001b[38;5;124m'\u001b[39m\u001b[38;5;124msurprise\u001b[39m\u001b[38;5;124m'\u001b[39m, \u001b[38;5;241m6\u001b[39m: \u001b[38;5;124m'\u001b[39m\u001b[38;5;124msad\u001b[39m\u001b[38;5;124m'\u001b[39m}  \u001b[38;5;66;03m# Example mapping\u001b[39;00m\n",
      "\u001b[1;31mNameError\u001b[0m: name 'predict_emotion' is not defined"
     ]
    }
   ],
   "source": [
    "audio_file_path = r'ser_dataset/Actor_24/03-01-01-01-01-01-24.wav'\n",
    "\n",
    "# Predict emotion for the given audio file\n",
    "predicted_emotion = predict_emotion(audio_file_path)\n",
    "\n",
    "# You'll probably have a dictionary or mapping for integer indices to emotion labels\n",
    "emotion_labels = {0: 'angry', 1: 'disgust', 2: 'fear', 3: 'happy', 4: 'neutral', 5: 'surprise', 6: 'sad'}  # Example mapping\n",
    "\n",
    "# Print the predicted emotion\n",
    "print(\"Predicted emotion:\", emotion_labels[predicted_emotion])\n",
    "Audio(audio_file_path)\n"
   ]
  },
  {
   "cell_type": "code",
   "execution_count": null,
   "metadata": {},
   "outputs": [],
   "source": [
    "\n",
    "# Get audio file path from user\n",
    "audio_file_path = input(\"Enter the path to the audio file: \")\n",
    "\n",
    "# Predict emotion for the given audio file\n",
    "predicted_emotion = predict_emotion(audio_file_path)\n",
    "\n",
    "# You'll probably have a dictionary or mapping for integer indices to emotion labels\n",
    "emotion_labels = {0: 'neutral', 1: 'calm', 2: 'happy', 3: 'sad', 4: 'angry', 5: 'fearful', 6: 'surprised'}  # Example mapping\n",
    "\n",
    "# Print the predicted emotion\n",
    "print(\"Predicted emotion:\", emotion_labels[predicted_emotion])"
   ]
  }
 ],
 "metadata": {
  "kernelspec": {
   "display_name": ".venv",
   "language": "python",
   "name": "python3"
  },
  "language_info": {
   "codemirror_mode": {
    "name": "ipython",
    "version": 3
   },
   "file_extension": ".py",
   "mimetype": "text/x-python",
   "name": "python",
   "nbconvert_exporter": "python",
   "pygments_lexer": "ipython3",
   "version": "3.11.8"
  }
 },
 "nbformat": 4,
 "nbformat_minor": 2
}
